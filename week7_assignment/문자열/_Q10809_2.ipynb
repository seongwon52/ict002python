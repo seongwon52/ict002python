{
  "nbformat": 4,
  "nbformat_minor": 0,
  "metadata": {
    "colab": {
      "provenance": []
    },
    "kernelspec": {
      "name": "python3",
      "display_name": "Python 3"
    },
    "language_info": {
      "name": "python"
    }
  },
  "cells": [
    {
      "cell_type": "code",
      "execution_count": 1,
      "metadata": {
        "colab": {
          "base_uri": "https://localhost:8080/"
        },
        "id": "SOHho3YT5cNc",
        "outputId": "d378cc2e-3896-4c88-c70b-a878a462a7c5"
      },
      "outputs": [
        {
          "output_type": "stream",
          "name": "stdout",
          "text": [
            "baekjoon\n",
            "1 0 -1 -1 2 -1 -1 -1 -1 4 3 -1 -1 7 5 -1 -1 -1 -1 -1 -1 -1 -1 -1 -1 -1\n"
          ]
        }
      ],
      "source": [
        "S = input()\n",
        "\n",
        "lst = list(i for i in range(97, 123))\n",
        "digits = list(-1 for i in range(97, 123))\n",
        "k = 0\n",
        "\n",
        "for i in range(len(S)):\n",
        "    for j in range(97, 123):\n",
        "        if ord(S[i]) == j:\n",
        "            digits[lst.index(j)] = k\n",
        "    if i > 0 and S[i] == S[i-1]:\n",
        "        digits[lst.index(ord(S[i]))] = k-1\n",
        "\n",
        "    k += 1\n",
        "\n",
        "print(*digits)"
      ]
    }
  ]
}