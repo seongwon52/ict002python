{
  "nbformat": 4,
  "nbformat_minor": 0,
  "metadata": {
    "colab": {
      "provenance": []
    },
    "kernelspec": {
      "name": "python3",
      "display_name": "Python 3"
    },
    "language_info": {
      "name": "python"
    }
  },
  "cells": [
    {
      "cell_type": "code",
      "execution_count": 6,
      "metadata": {
        "colab": {
          "base_uri": "https://localhost:8080/"
        },
        "id": "bEuvq8IxhHmJ",
        "outputId": "cef18f7b-816d-471d-ef16-2fbdc288520d"
      },
      "outputs": [
        {
          "output_type": "stream",
          "name": "stdout",
          "text": [
            "부모님으로부터 받은 용돈:25500\n",
            "거스름돈:21950원\n",
            "500원 짜리 거스름돈:43개\n",
            "100원 짜리 거스름돈:4개\n",
            "50원 짜리 거스름돈:1개\n"
          ]
        }
      ],
      "source": [
        "money = int(input(\"부모님으로부터 받은 용돈:\"))\n",
        "\n",
        "change = money-3550\n",
        "mon500 = change//500\n",
        "mon100 = (change - 500*mon500)//100\n",
        "mon50 = (change - (500*mon500 + 100*mon100))//50\n",
        "\n",
        "print(f\"거스름돈:{change}원\")\n",
        "print(f\"500원 짜리 거스름돈:{mon500}개\")\n",
        "print(f\"100원 짜리 거스름돈:{mon100}개\")\n",
        "print(f\"50원 짜리 거스름돈:{mon50}개\")"
      ]
    }
  ]
}