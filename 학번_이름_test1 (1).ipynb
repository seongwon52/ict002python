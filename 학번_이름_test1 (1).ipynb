{
  "nbformat": 4,
  "nbformat_minor": 0,
  "metadata": {
    "colab": {
      "provenance": []
    },
    "kernelspec": {
      "name": "python3",
      "display_name": "Python 3"
    },
    "language_info": {
      "name": "python"
    }
  },
  "cells": [
    {
      "cell_type": "code",
      "execution_count": 6,
      "metadata": {
        "colab": {
          "base_uri": "https://localhost:8080/"
        },
        "id": "irbgmxK9LLdE",
        "outputId": "7f4b82b3-533f-4fa7-af75-03090fd22d4f"
      },
      "outputs": [
        {
          "output_type": "stream",
          "name": "stdout",
          "text": [
            "국어: 100\n",
            "영어: 80\n",
            "수학: 75\n",
            "총점: 255\n",
            "평균: 85.00\n"
          ]
        }
      ],
      "source": [
        "kor = 100\n",
        "eng = 80\n",
        "math = 75\n",
        "\n",
        "sum = kor + eng + math\n",
        "ave = sum/3\n",
        "\n",
        "print(\"국어:\", kor)\n",
        "print(\"영어:\", eng)\n",
        "print(\"수학:\", math)\n",
        "print(\"총점:\", sum)\n",
        "print(\"평균: {0:0,.2f}\".format(ave))"
      ]
    }
  ]
}