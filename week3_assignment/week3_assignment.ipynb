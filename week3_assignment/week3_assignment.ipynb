{
  "nbformat": 4,
  "nbformat_minor": 0,
  "metadata": {
    "colab": {
      "provenance": []
    },
    "kernelspec": {
      "name": "python3",
      "display_name": "Python 3"
    },
    "language_info": {
      "name": "python"
    }
  },
  "cells": [
    {
      "cell_type": "code",
      "execution_count": 5,
      "metadata": {
        "colab": {
          "base_uri": "https://localhost:8080/"
        },
        "id": "JmhrTYqAd7LG",
        "outputId": "77a56050-f6d0-4f20-d0d3-98f4ba9ebaf0"
      },
      "outputs": [
        {
          "output_type": "stream",
          "name": "stdout",
          "text": [
            "알파벳을 입력하세요: H\n",
            "당신이 입력한 문자 H는 대문자입니다.\n"
          ]
        }
      ],
      "source": [
        "x = input(\"알파벳을 입력하세요: \")\n",
        "\n",
        "t = \"대문자입니다.\" if x.isupper() else \"소문자입니다.\"\n",
        "print(f\"당신이 입력한 문자 {x}는 {t}\")"
      ]
    }
  ]
}